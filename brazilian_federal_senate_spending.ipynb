{
 "cells": [
  {
   "cell_type": "markdown",
   "metadata": {},
   "source": [
    "![money](img/money_edit4.png)"
   ]
  },
  {
   "cell_type": "markdown",
   "metadata": {},
   "source": [
    "<center> <h1> Where is my money? </h1> </center>\n",
    "<center> <h2> Data Science as a tool of citizenship.</h2> </center>"
   ]
  },
  {
   "cell_type": "markdown",
   "metadata": {},
   "source": [
    "## Introduction:  <a name=\"intro\"></a> <br />\n",
    "\n",
    "<div style=\"text-align: justify\"> The availability of public data allows citizens to investigate the quality of public administration. Let's take a look on data made available by brazilian federal government. However, it is increasingly common to access data provided by governments from around the free world.\n",
    "</div>\n",
    "\n",
    "**About dataset:** <br />\n",
    "<div style=\"text-align: justify\"> The <a href=\"https://www12.senado.leg.br/transparencia/dados-abertos-transparencia/dados-abertos-ceaps\">dataset</a> can be downloaded from the website of the Brazilian federal senate. These values are called Quotas for the Exercise of Parliamentary Activity for Senators in Portuguese CEAPs. It is made available by the exercise of the mandate of the senators.\n",
    "\n",
    "**Motivation:** <br />\n",
    "Brazilian senators have available amounts for spending on parliamentary activity. Let's look at how public money is being spent And answer the following questions: <br >\n",
    "What is the change in total spending in recent years? <br >\n",
    "Which senators spent the most in the year under review?<br >\n",
    "Which party has the most spending?"
   ]
  },
  {
   "cell_type": "markdown",
   "metadata": {},
   "source": [
    "## Preparing the data: <br/>"
   ]
  },
  {
   "cell_type": "code",
   "execution_count": 2,
   "metadata": {},
   "outputs": [],
   "source": [
    "## Imports\n",
    "import pandas as pd\n",
    "import numpy as np\n",
    "from matplotlib.ticker import MaxNLocator\n",
    "\n",
    "### Plot\n",
    "import matplotlib.pyplot as plt\n",
    "import seaborn as sns"
   ]
  },
  {
   "cell_type": "code",
   "execution_count": 3,
   "metadata": {},
   "outputs": [],
   "source": [
    "## Configuration\n",
    "%matplotlib inline\n",
    "#plt.style.use(\"fivethirtyeight\")\n",
    "plt.rcParams[\"figure.figsize\"] = 15,5"
   ]
  },
  {
   "cell_type": "code",
   "execution_count": 6,
   "metadata": {},
   "outputs": [],
   "source": [
    "## Data load\n",
    "path = \"data/\"\n",
    "\n",
    "# Ano atual de analise\n",
    "df_2018 = pd.read_csv(path+\"2018.csv\", skiprows=1, encoding='latin1', delimiter=';')\n",
    "\n",
    "# Anos anteriores\n",
    "df_2017 = pd.read_csv(path+\"2017.csv\", skiprows=1, encoding='latin1', delimiter=';')\n",
    "df_2016 = pd.read_csv(path+\"2016.csv\", skiprows=1, encoding='latin1', delimiter=';')\n",
    "df_2015 = pd.read_csv(path+\"2015.csv\", skiprows=1, encoding='latin1', delimiter=';')\n",
    "df_2014 = pd.read_csv(path+\"2014.csv\", skiprows=1, encoding='latin1', delimiter=';')\n",
    "\n",
    "# Mapa de nomes dos senadores com partidos\n",
    "siglas = pd.read_csv(path+\"names.csv\")"
   ]
  },
  {
   "cell_type": "markdown",
   "metadata": {},
   "source": [
    "## Exploratory analysis - 2018 <br />\n",
    "<p style='text-align: justify;'> A basic analysis will be done in the year 2018. We did not analyze the year 2019 because it is the current year and the data will change."
   ]
  },
  {
   "cell_type": "code",
   "execution_count": 7,
   "metadata": {},
   "outputs": [
    {
     "data": {
      "text/html": [
       "<div>\n",
       "<style scoped>\n",
       "    .dataframe tbody tr th:only-of-type {\n",
       "        vertical-align: middle;\n",
       "    }\n",
       "\n",
       "    .dataframe tbody tr th {\n",
       "        vertical-align: top;\n",
       "    }\n",
       "\n",
       "    .dataframe thead th {\n",
       "        text-align: right;\n",
       "    }\n",
       "</style>\n",
       "<table border=\"1\" class=\"dataframe\">\n",
       "  <thead>\n",
       "    <tr style=\"text-align: right;\">\n",
       "      <th></th>\n",
       "      <th>ANO</th>\n",
       "      <th>MES</th>\n",
       "      <th>SENADOR</th>\n",
       "      <th>TIPO_DESPESA</th>\n",
       "      <th>CNPJ_CPF</th>\n",
       "      <th>FORNECEDOR</th>\n",
       "      <th>DOCUMENTO</th>\n",
       "      <th>DATA</th>\n",
       "      <th>DETALHAMENTO</th>\n",
       "      <th>VALOR_REEMBOLSADO</th>\n",
       "    </tr>\n",
       "  </thead>\n",
       "  <tbody>\n",
       "    <tr>\n",
       "      <th>0</th>\n",
       "      <td>2018</td>\n",
       "      <td>1</td>\n",
       "      <td>ACIR GURGACZ</td>\n",
       "      <td>Aluguel de imóveis para escritório político, c...</td>\n",
       "      <td>004.948.028-63</td>\n",
       "      <td>GILBERTO PISELO DO NASCIMENTO</td>\n",
       "      <td>NaN</td>\n",
       "      <td>02/01/2018</td>\n",
       "      <td>Despesa com pagamento de aluguel de imóvel par...</td>\n",
       "      <td>6000</td>\n",
       "    </tr>\n",
       "    <tr>\n",
       "      <th>1</th>\n",
       "      <td>2018</td>\n",
       "      <td>1</td>\n",
       "      <td>ACIR GURGACZ</td>\n",
       "      <td>Passagens aéreas, aquáticas e terrestres nacio...</td>\n",
       "      <td>63.764.211/0001-10</td>\n",
       "      <td>TRANSCONTINENTAL AGÊNCIA DE VIAGENS LTDA</td>\n",
       "      <td>M2CJMM</td>\n",
       "      <td>02/01/2018</td>\n",
       "      <td>Companhia Aérea: AVIANCA, Localizador: M2CJMM....</td>\n",
       "      <td>274,99</td>\n",
       "    </tr>\n",
       "    <tr>\n",
       "      <th>2</th>\n",
       "      <td>2018</td>\n",
       "      <td>1</td>\n",
       "      <td>ACIR GURGACZ</td>\n",
       "      <td>Passagens aéreas, aquáticas e terrestres nacio...</td>\n",
       "      <td>63.764.211/0001-10</td>\n",
       "      <td>TRANSCONTINENTAL AGÊNCIA DE VIAGENS LTDA</td>\n",
       "      <td>SFEXYF</td>\n",
       "      <td>02/01/2018</td>\n",
       "      <td>Companhia Aérea: LATAM, Localizador: SFEXYF. P...</td>\n",
       "      <td>1094,29</td>\n",
       "    </tr>\n",
       "    <tr>\n",
       "      <th>3</th>\n",
       "      <td>2018</td>\n",
       "      <td>1</td>\n",
       "      <td>ACIR GURGACZ</td>\n",
       "      <td>Passagens aéreas, aquáticas e terrestres nacio...</td>\n",
       "      <td>63.764.211/0001-10</td>\n",
       "      <td>TRANSCONTINENTAL AGÊNCIA DE VIAGENS LTDA</td>\n",
       "      <td>V64HTR</td>\n",
       "      <td>24/01/2018</td>\n",
       "      <td>Companhia Aérea: AZUL, Localizador: V64HTR. Pa...</td>\n",
       "      <td>1553,99</td>\n",
       "    </tr>\n",
       "    <tr>\n",
       "      <th>4</th>\n",
       "      <td>2018</td>\n",
       "      <td>2</td>\n",
       "      <td>ACIR GURGACZ</td>\n",
       "      <td>Aluguel de imóveis para escritório político, c...</td>\n",
       "      <td>004.948.028-63</td>\n",
       "      <td>GILBERTO PISELO DO NASCIMENTO</td>\n",
       "      <td>002/18</td>\n",
       "      <td>01/02/2018</td>\n",
       "      <td>Despesa com pagamento de aluguel de imóvel par...</td>\n",
       "      <td>6000</td>\n",
       "    </tr>\n",
       "  </tbody>\n",
       "</table>\n",
       "</div>"
      ],
      "text/plain": [
       "    ANO  MES       SENADOR                                       TIPO_DESPESA  \\\n",
       "0  2018    1  ACIR GURGACZ  Aluguel de imóveis para escritório político, c...   \n",
       "1  2018    1  ACIR GURGACZ  Passagens aéreas, aquáticas e terrestres nacio...   \n",
       "2  2018    1  ACIR GURGACZ  Passagens aéreas, aquáticas e terrestres nacio...   \n",
       "3  2018    1  ACIR GURGACZ  Passagens aéreas, aquáticas e terrestres nacio...   \n",
       "4  2018    2  ACIR GURGACZ  Aluguel de imóveis para escritório político, c...   \n",
       "\n",
       "             CNPJ_CPF                                FORNECEDOR DOCUMENTO  \\\n",
       "0      004.948.028-63             GILBERTO PISELO DO NASCIMENTO       NaN   \n",
       "1  63.764.211/0001-10  TRANSCONTINENTAL AGÊNCIA DE VIAGENS LTDA    M2CJMM   \n",
       "2  63.764.211/0001-10  TRANSCONTINENTAL AGÊNCIA DE VIAGENS LTDA    SFEXYF   \n",
       "3  63.764.211/0001-10  TRANSCONTINENTAL AGÊNCIA DE VIAGENS LTDA    V64HTR   \n",
       "4      004.948.028-63             GILBERTO PISELO DO NASCIMENTO    002/18   \n",
       "\n",
       "         DATA                                       DETALHAMENTO  \\\n",
       "0  02/01/2018  Despesa com pagamento de aluguel de imóvel par...   \n",
       "1  02/01/2018  Companhia Aérea: AVIANCA, Localizador: M2CJMM....   \n",
       "2  02/01/2018  Companhia Aérea: LATAM, Localizador: SFEXYF. P...   \n",
       "3  24/01/2018  Companhia Aérea: AZUL, Localizador: V64HTR. Pa...   \n",
       "4  01/02/2018  Despesa com pagamento de aluguel de imóvel par...   \n",
       "\n",
       "  VALOR_REEMBOLSADO  \n",
       "0              6000  \n",
       "1            274,99  \n",
       "2           1094,29  \n",
       "3           1553,99  \n",
       "4              6000  "
      ]
     },
     "execution_count": 7,
     "metadata": {},
     "output_type": "execute_result"
    }
   ],
   "source": [
    "df_2018.head()"
   ]
  },
  {
   "cell_type": "code",
   "execution_count": 8,
   "metadata": {},
   "outputs": [
    {
     "name": "stdout",
     "output_type": "stream",
     "text": [
      "<class 'pandas.core.frame.DataFrame'>\n",
      "RangeIndex: 24492 entries, 0 to 24491\n",
      "Data columns (total 10 columns):\n",
      "ANO                  24492 non-null int64\n",
      "MES                  24492 non-null int64\n",
      "SENADOR              24492 non-null object\n",
      "TIPO_DESPESA         24492 non-null object\n",
      "CNPJ_CPF             24492 non-null object\n",
      "FORNECEDOR           24492 non-null object\n",
      "DOCUMENTO            23476 non-null object\n",
      "DATA                 24492 non-null object\n",
      "DETALHAMENTO         18882 non-null object\n",
      "VALOR_REEMBOLSADO    24492 non-null object\n",
      "dtypes: int64(2), object(8)\n",
      "memory usage: 1.9+ MB\n"
     ]
    }
   ],
   "source": [
    "df_2018.info()"
   ]
  },
  {
   "cell_type": "markdown",
   "metadata": {},
   "source": [
    "## Data Formatting\n",
    "\n",
    "In the end we will have a function that helps us in the treatment of data from previous and next years."
   ]
  },
  {
   "cell_type": "code",
   "execution_count": 9,
   "metadata": {},
   "outputs": [],
   "source": [
    "# Transformar em valores númericos\n",
    "df_2018[\"VALOR_REEMBOLSADO\"] = df_2018[\"VALOR_REEMBOLSADO\"].str.replace(\",\",\".\")\n",
    "df_2018['VALOR_REEMBOLSADO'] = pd.to_numeric(df_2018['VALOR_REEMBOLSADO'])"
   ]
  },
  {
   "cell_type": "code",
   "execution_count": 10,
   "metadata": {},
   "outputs": [],
   "source": [
    "# Drop data pois tenho mês e anod\n",
    "df_2018 = df_2018.drop(\"DATA\", axis=1)"
   ]
  },
  {
   "cell_type": "markdown",
   "metadata": {},
   "source": [
    "Treatment of column \"Tipo de despesas\""
   ]
  },
  {
   "cell_type": "code",
   "execution_count": 11,
   "metadata": {},
   "outputs": [
    {
     "data": {
      "text/plain": [
       "array(['Aluguel de imóveis para escritório político, compreendendo despesas concernentes a eles.',\n",
       "       'Passagens aéreas, aquáticas e terrestres nacionais',\n",
       "       'Divulgação da atividade parlamentar',\n",
       "       'Contratação de consultorias, assessorias, pesquisas, trabalhos técnicos e outros serviços de apoio ao exercício do mandato parlamentar',\n",
       "       'Locomoção, hospedagem, alimentação, combustíveis e lubrificantes',\n",
       "       'Aquisição de material de consumo para uso no escritório político, inclusive aquisição ou locação de software, despesas postais, aquisição de publicações, locação de móveis e de equipamentos. ',\n",
       "       'Serviços de Segurança Privada'], dtype=object)"
      ]
     },
     "execution_count": 11,
     "metadata": {},
     "output_type": "execute_result"
    }
   ],
   "source": [
    "df_2018[\"TIPO_DESPESA\"].unique()"
   ]
  },
  {
   "cell_type": "code",
   "execution_count": 12,
   "metadata": {},
   "outputs": [],
   "source": [
    "format_values = {'Aluguel de imóveis para escritório político, compreendendo despesas concernentes a eles.': 'Rent',\n",
    " 'Aquisição de material de consumo para uso no escritório político, inclusive aquisição ou locação de software, despesas postais, aquisição de publicações, locação de móveis e de equipamentos. ': 'General expenses',\n",
    " 'Contratação de consultorias, assessorias, pesquisas, trabalhos técnicos e outros serviços de apoio ao exercício do mandato parlamentar': 'Hiring',\n",
    " 'Locomoção, hospedagem, alimentação, combustíveis e lubrificantes': 'Daily Spend',\n",
    " 'Passagens aéreas, aquáticas e terrestres nacionais': 'Airline tickets',\n",
    " 'Divulgação da atividade parlamentar': 'Advertising',\n",
    " 'Serviços de Segurança Privada': 'Security'}"
   ]
  },
  {
   "cell_type": "code",
   "execution_count": 13,
   "metadata": {},
   "outputs": [],
   "source": [
    "df_2018['TIPO_DESPESA'] = df_2018['TIPO_DESPESA'].map(format_values)"
   ]
  },
  {
   "cell_type": "markdown",
   "metadata": {},
   "source": [
    "## Take a look after treatment:"
   ]
  },
  {
   "cell_type": "code",
   "execution_count": 14,
   "metadata": {},
   "outputs": [
    {
     "name": "stdout",
     "output_type": "stream",
     "text": [
      "<class 'pandas.core.frame.DataFrame'>\n",
      "RangeIndex: 24492 entries, 0 to 24491\n",
      "Data columns (total 9 columns):\n",
      "ANO                  24492 non-null int64\n",
      "MES                  24492 non-null int64\n",
      "SENADOR              24492 non-null object\n",
      "TIPO_DESPESA         24492 non-null object\n",
      "CNPJ_CPF             24492 non-null object\n",
      "FORNECEDOR           24492 non-null object\n",
      "DOCUMENTO            23476 non-null object\n",
      "DETALHAMENTO         18882 non-null object\n",
      "VALOR_REEMBOLSADO    24492 non-null float64\n",
      "dtypes: float64(1), int64(2), object(6)\n",
      "memory usage: 1.7+ MB\n"
     ]
    }
   ],
   "source": [
    "df_2018.info()"
   ]
  },
  {
   "cell_type": "code",
   "execution_count": 15,
   "metadata": {},
   "outputs": [
    {
     "data": {
      "text/html": [
       "<div>\n",
       "<style scoped>\n",
       "    .dataframe tbody tr th:only-of-type {\n",
       "        vertical-align: middle;\n",
       "    }\n",
       "\n",
       "    .dataframe tbody tr th {\n",
       "        vertical-align: top;\n",
       "    }\n",
       "\n",
       "    .dataframe thead th {\n",
       "        text-align: right;\n",
       "    }\n",
       "</style>\n",
       "<table border=\"1\" class=\"dataframe\">\n",
       "  <thead>\n",
       "    <tr style=\"text-align: right;\">\n",
       "      <th></th>\n",
       "      <th>ANO</th>\n",
       "      <th>MES</th>\n",
       "      <th>SENADOR</th>\n",
       "      <th>TIPO_DESPESA</th>\n",
       "      <th>CNPJ_CPF</th>\n",
       "      <th>FORNECEDOR</th>\n",
       "      <th>DOCUMENTO</th>\n",
       "      <th>DETALHAMENTO</th>\n",
       "      <th>VALOR_REEMBOLSADO</th>\n",
       "    </tr>\n",
       "  </thead>\n",
       "  <tbody>\n",
       "    <tr>\n",
       "      <th>0</th>\n",
       "      <td>2018</td>\n",
       "      <td>1</td>\n",
       "      <td>ACIR GURGACZ</td>\n",
       "      <td>Rent</td>\n",
       "      <td>004.948.028-63</td>\n",
       "      <td>GILBERTO PISELO DO NASCIMENTO</td>\n",
       "      <td>NaN</td>\n",
       "      <td>Despesa com pagamento de aluguel de imóvel par...</td>\n",
       "      <td>6000.00</td>\n",
       "    </tr>\n",
       "    <tr>\n",
       "      <th>1</th>\n",
       "      <td>2018</td>\n",
       "      <td>1</td>\n",
       "      <td>ACIR GURGACZ</td>\n",
       "      <td>Airline tickets</td>\n",
       "      <td>63.764.211/0001-10</td>\n",
       "      <td>TRANSCONTINENTAL AGÊNCIA DE VIAGENS LTDA</td>\n",
       "      <td>M2CJMM</td>\n",
       "      <td>Companhia Aérea: AVIANCA, Localizador: M2CJMM....</td>\n",
       "      <td>274.99</td>\n",
       "    </tr>\n",
       "    <tr>\n",
       "      <th>2</th>\n",
       "      <td>2018</td>\n",
       "      <td>1</td>\n",
       "      <td>ACIR GURGACZ</td>\n",
       "      <td>Airline tickets</td>\n",
       "      <td>63.764.211/0001-10</td>\n",
       "      <td>TRANSCONTINENTAL AGÊNCIA DE VIAGENS LTDA</td>\n",
       "      <td>SFEXYF</td>\n",
       "      <td>Companhia Aérea: LATAM, Localizador: SFEXYF. P...</td>\n",
       "      <td>1094.29</td>\n",
       "    </tr>\n",
       "    <tr>\n",
       "      <th>3</th>\n",
       "      <td>2018</td>\n",
       "      <td>1</td>\n",
       "      <td>ACIR GURGACZ</td>\n",
       "      <td>Airline tickets</td>\n",
       "      <td>63.764.211/0001-10</td>\n",
       "      <td>TRANSCONTINENTAL AGÊNCIA DE VIAGENS LTDA</td>\n",
       "      <td>V64HTR</td>\n",
       "      <td>Companhia Aérea: AZUL, Localizador: V64HTR. Pa...</td>\n",
       "      <td>1553.99</td>\n",
       "    </tr>\n",
       "    <tr>\n",
       "      <th>4</th>\n",
       "      <td>2018</td>\n",
       "      <td>2</td>\n",
       "      <td>ACIR GURGACZ</td>\n",
       "      <td>Rent</td>\n",
       "      <td>004.948.028-63</td>\n",
       "      <td>GILBERTO PISELO DO NASCIMENTO</td>\n",
       "      <td>002/18</td>\n",
       "      <td>Despesa com pagamento de aluguel de imóvel par...</td>\n",
       "      <td>6000.00</td>\n",
       "    </tr>\n",
       "  </tbody>\n",
       "</table>\n",
       "</div>"
      ],
      "text/plain": [
       "    ANO  MES       SENADOR     TIPO_DESPESA            CNPJ_CPF  \\\n",
       "0  2018    1  ACIR GURGACZ             Rent      004.948.028-63   \n",
       "1  2018    1  ACIR GURGACZ  Airline tickets  63.764.211/0001-10   \n",
       "2  2018    1  ACIR GURGACZ  Airline tickets  63.764.211/0001-10   \n",
       "3  2018    1  ACIR GURGACZ  Airline tickets  63.764.211/0001-10   \n",
       "4  2018    2  ACIR GURGACZ             Rent      004.948.028-63   \n",
       "\n",
       "                                 FORNECEDOR DOCUMENTO  \\\n",
       "0             GILBERTO PISELO DO NASCIMENTO       NaN   \n",
       "1  TRANSCONTINENTAL AGÊNCIA DE VIAGENS LTDA    M2CJMM   \n",
       "2  TRANSCONTINENTAL AGÊNCIA DE VIAGENS LTDA    SFEXYF   \n",
       "3  TRANSCONTINENTAL AGÊNCIA DE VIAGENS LTDA    V64HTR   \n",
       "4             GILBERTO PISELO DO NASCIMENTO    002/18   \n",
       "\n",
       "                                        DETALHAMENTO  VALOR_REEMBOLSADO  \n",
       "0  Despesa com pagamento de aluguel de imóvel par...            6000.00  \n",
       "1  Companhia Aérea: AVIANCA, Localizador: M2CJMM....             274.99  \n",
       "2  Companhia Aérea: LATAM, Localizador: SFEXYF. P...            1094.29  \n",
       "3  Companhia Aérea: AZUL, Localizador: V64HTR. Pa...            1553.99  \n",
       "4  Despesa com pagamento de aluguel de imóvel par...            6000.00  "
      ]
     },
     "execution_count": 15,
     "metadata": {},
     "output_type": "execute_result"
    }
   ],
   "source": [
    "df_2018.head()"
   ]
  },
  {
   "cell_type": "markdown",
   "metadata": {},
   "source": [
    "## Dicionario de nome de colunas <a name=\"diccolumns\"></a>\n",
    "\n",
    "ANO: Ano do reembolso. Data\n",
    "\n",
    "MES: mês do ano corrente do reembolso. Data\n",
    "\n",
    "SENADOR: Nome do Senador. \n",
    "\n",
    "TIPO_DESPESA: Tipo de despesas. Categórico\n",
    "    - General expenses\n",
    "    - Security\n",
    "\n",
    "VALOR_REEMBOLSADO: Valor total do reembolso do gasto\n",
    "\n",
    "Obs: Estão listadas as colunas utilizadas em nossa análise. As colunas não listadas aqui foram mantidas apenas para eventuais questões que possam ser levantadas no decorrer da análise."
   ]
  },
  {
   "cell_type": "code",
   "execution_count": null,
   "metadata": {},
   "outputs": [],
   "source": []
  },
  {
   "cell_type": "code",
   "execution_count": null,
   "metadata": {},
   "outputs": [],
   "source": []
  },
  {
   "cell_type": "code",
   "execution_count": null,
   "metadata": {},
   "outputs": [],
   "source": []
  },
  {
   "cell_type": "code",
   "execution_count": null,
   "metadata": {},
   "outputs": [],
   "source": []
  },
  {
   "cell_type": "code",
   "execution_count": null,
   "metadata": {},
   "outputs": [],
   "source": []
  },
  {
   "cell_type": "code",
   "execution_count": null,
   "metadata": {},
   "outputs": [],
   "source": []
  },
  {
   "cell_type": "code",
   "execution_count": null,
   "metadata": {},
   "outputs": [],
   "source": []
  },
  {
   "cell_type": "code",
   "execution_count": null,
   "metadata": {},
   "outputs": [],
   "source": []
  },
  {
   "cell_type": "code",
   "execution_count": null,
   "metadata": {},
   "outputs": [],
   "source": []
  },
  {
   "cell_type": "code",
   "execution_count": null,
   "metadata": {},
   "outputs": [],
   "source": []
  },
  {
   "cell_type": "code",
   "execution_count": null,
   "metadata": {},
   "outputs": [],
   "source": []
  },
  {
   "cell_type": "code",
   "execution_count": null,
   "metadata": {},
   "outputs": [],
   "source": []
  },
  {
   "cell_type": "code",
   "execution_count": null,
   "metadata": {},
   "outputs": [],
   "source": []
  }
 ],
 "metadata": {
  "kernelspec": {
   "display_name": "Python 3",
   "language": "python",
   "name": "python3"
  },
  "language_info": {
   "codemirror_mode": {
    "name": "ipython",
    "version": 3
   },
   "file_extension": ".py",
   "mimetype": "text/x-python",
   "name": "python",
   "nbconvert_exporter": "python",
   "pygments_lexer": "ipython3",
   "version": "3.7.2"
  }
 },
 "nbformat": 4,
 "nbformat_minor": 2
}
